{
 "cells": [
  {
   "cell_type": "code",
   "execution_count": 1,
   "metadata": {},
   "outputs": [],
   "source": [
    "using Revise\n",
    "using RigidBodyDynamics\n",
    "using StaticArrays\n",
    "using MeshCat\n",
    "using AtlasRobot"
   ]
  },
  {
   "cell_type": "code",
   "execution_count": 2,
   "metadata": {},
   "outputs": [
    {
     "name": "stdout",
     "output_type": "stream",
     "text": [
      "Listening on 127.0.0.1:7000...\n",
      "zmq_url=tcp://127.0.0.1:6000\n",
      "web_url=http://127.0.0.1:7000/static/\n"
     ]
    },
    {
     "data": {
      "text/html": [
       "    <div style=\"height: 500px; width: 500px; overflow-x: auto; overflow-y: hidden; resize: both\">\n",
       "    <iframe src=\"http://127.0.0.1:7000/static/\" style=\"width: 100%; height: 100%; border: none\"></iframe>\n",
       "    </div>\n"
      ],
      "text/plain": [
       "MeshCat.IJuliaCell(MeshCat.ViewerWindow(ZMQ.Context(Ptr{Void} @0x0000000004e72930, ZMQ.Socket[ZMQ.Socket(Ptr{Void} @0x0000000004d1c370, Base.Filesystem._FDWatcher(Ptr{Void} @0x0000000004f113d0, 58, (1, 0), Condition(Any[]), (false, false), 0))]), ZMQ.Socket(Ptr{Void} @0x0000000004d1c370, Base.Filesystem._FDWatcher(Ptr{Void} @0x0000000004f113d0, 58, (1, 0), Condition(Any[]), (false, false), 0)), \"http://127.0.0.1:7000/static/\", \"tcp://127.0.0.1:6000\", MeshCat.ZMQServer.ZMQWebSocketBridge(ip\"127.0.0.1\", Set{WebSockets.WebSocket}(), MeshCat.SceneTrees.SceneNode(Nullable{Array{UInt8,1}}(), Nullable{Array{UInt8,1}}(), Dict{String,MeshCat.SceneTrees.SceneNode}()), 7000, HttpServer.Server(HttpServer.HttpHandler(MeshCat.ZMQServer.handle_file_request, Base.TCPServer(RawFD(44) active), Dict{String,Function}(Pair{String,Function}(\"error\", HttpServer.#1),Pair{String,Function}(\"listen\", HttpServer.#3))), WebSockets.WebSocketHandler(MeshCat.ZMQServer.#5)), ZMQ.Context(Ptr{Void} @0x0000000004ef95b0, ZMQ.Socket[ZMQ.Socket(Ptr{Void} @0x0000000004f40ab0, Base.Filesystem._FDWatcher(Ptr{Void} @0x0000000004ac2400, 51, (1, 0), Condition(Any[Task (runnable) @0x00007f76319fbc70]), (true, false), 0))]), ZMQ.Socket(Ptr{Void} @0x0000000004f40ab0, Base.Filesystem._FDWatcher(Ptr{Void} @0x0000000004ac2400, 51, (1, 0), Condition(Any[Task (runnable) @0x00007f76319fbc70]), (true, false), 0)), \"tcp://127.0.0.1:6000\")), false)"
      ]
     },
     "execution_count": 2,
     "metadata": {},
     "output_type": "execute_result"
    }
   ],
   "source": [
    "vis = Visualizer()\n",
    "IJuliaCell(vis)"
   ]
  },
  {
   "cell_type": "code",
   "execution_count": 3,
   "metadata": {},
   "outputs": [
    {
     "name": "stderr",
     "output_type": "stream",
     "text": [
      "\u001b[1m\u001b[36mINFO: \u001b[39m\u001b[22m\u001b[36mRecompiling stale cache file /home/rdeits/.julia/lib/v0.6/MechanismGeometries.ji for module MechanismGeometries.\n",
      "\u001b[39m\u001b[1m\u001b[36mINFO: \u001b[39m\u001b[22m\u001b[36mRecompiling stale cache file /home/rdeits/.julia/lib/v0.6/MeshCatMechanisms.ji for module MeshCatMechanisms.\n",
      "\u001b[39m"
     ]
    }
   ],
   "source": [
    "using MechanismGeometries\n",
    "using MeshCatMechanisms"
   ]
  },
  {
   "cell_type": "code",
   "execution_count": 29,
   "metadata": {},
   "outputs": [
    {
     "name": "stderr",
     "output_type": "stream",
     "text": [
      "WARNING: Method definition create_frame_to_frame_geometry(Any, Any) in module MechanismGeometries at /home/rdeits/.julia/v0.6/MechanismGeometries/src/construction.jl:63 overwritten at /home/rdeits/.julia/v0.6/MechanismGeometries/src/construction.jl:63.\n"
     ]
    },
    {
     "data": {
      "text/plain": [
       "MeshCatMechanisms.MechanismVisualizer{RigidBodyDynamics.MechanismState{Float64,Float64,Float64,TypeSortedCollections.TypeSortedCollection{Tuple{Array{RigidBodyDynamics.Joint{Float64,RigidBodyDynamics.QuaternionFloating{Float64}},1},Array{RigidBodyDynamics.Joint{Float64,RigidBodyDynamics.Revolute{Float64}},1}},2},TypeSortedCollections.TypeSortedCollection{Tuple{Array{RigidBodyDynamics.Spatial.GeometricJacobian{StaticArrays.SArray{Tuple{3,6},Float64,2,18}},1},Array{RigidBodyDynamics.Spatial.GeometricJacobian{StaticArrays.SArray{Tuple{3,1},Float64,2,3}},1}},2},TypeSortedCollections.TypeSortedCollection{Tuple{Array{RigidBodyDynamics.Spatial.WrenchMatrix{StaticArrays.SArray{Tuple{3,0},Float64,2,0}},1},Array{RigidBodyDynamics.Spatial.WrenchMatrix{StaticArrays.SArray{Tuple{3,5},Float64,2,15}},1}},2}}}(MechanismState{Float64, Float64, Float64, …}(…), MeshCat Visualizer at http://127.0.0.1:7000/static/ with path /meshcat, 72)"
      ]
     },
     "execution_count": 29,
     "metadata": {},
     "output_type": "execute_result"
    }
   ],
   "source": [
    "mechanism = AtlasRobot.mechanism()\n",
    "elements = create_skeleton(mechanism, show_inertias=true)\n",
    "delete!(vis)\n",
    "mvis = MechanismVisualizer(mechanism, elements, vis)"
   ]
  },
  {
   "cell_type": "code",
   "execution_count": null,
   "metadata": {},
   "outputs": [],
   "source": []
  },
  {
   "cell_type": "code",
   "execution_count": null,
   "metadata": {},
   "outputs": [],
   "source": []
  }
 ],
 "metadata": {
  "kernelspec": {
   "display_name": "Julia 0.6.2",
   "language": "julia",
   "name": "julia-0.6"
  },
  "language_info": {
   "file_extension": ".jl",
   "mimetype": "application/julia",
   "name": "julia",
   "version": "0.6.2"
  }
 },
 "nbformat": 4,
 "nbformat_minor": 2
}
